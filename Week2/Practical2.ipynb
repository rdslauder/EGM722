{
 "cells": [
  {
   "cell_type": "markdown",
   "metadata": {},
   "source": [
    "# Practical 2 - Mapping with cartopy\n",
    "\n",
    "In the first practical for EGM711, you learned how to use ArcGIS Pro to make maps, given shapefiles of different features of interest in Northern Ireland. In this practical, you will repeat the exercise, this time using `cartopy`, `geopandas`, and `matplotlib`, three python packages used for making maps, working with vector data, and making plots, respectively. \n",
    "\n",
    "## Objectives\n",
    "- become familiar with geopandas, cartopy, and matplotlib, including reading the provided documentation\n",
    "- use list comprehensions to simplify some for loops\n",
    "\n",
    "## 1. Getting started\n",
    "First, run the cell below. It will load the python modules we'll be using in the practical, as well as define a few helper functions that we'll use later on. For now, don't worry too much about what each individual line does - we'll go over these in a bit more depth as we go. Remember also that if you get stuck, you can get help in a few ways:\n",
    "\n",
    "1. the built-in help (i.e., `help(plt.text)`)\n",
    "2. using ipython's (the python interpreter used by jupyter-notebooks) help shortcut (i.e., `plt.text?`)\n",
    "3. finding the online documentation for the module (usually achieved via option 4)\n",
    "4. searching google (or your search engine of choice)\n",
    "5. consulting your favorite medicine man/shaman/spiritual guide\n",
    "6. asking the instructor, who will in all likelihood resort to one of the other options (usually 5 or 4)."
   ]
  },
  {
   "cell_type": "code",
   "execution_count": null,
   "metadata": {},
   "outputs": [],
   "source": [
    "# this lets us use the figures interactively\n",
    "%matplotlib inline\n",
    "\n",
    "import os\n",
    "import geopandas as gpd\n",
    "import matplotlib.pyplot as plt\n",
    "from cartopy.feature import ShapelyFeature\n",
    "import cartopy.crs as ccrs\n",
    "import matplotlib.patches as mpatches\n",
    "import matplotlib.lines as mlines\n",
    "\n",
    "plt.ion() # make the plotting interactive\n",
    "\n",
    "# generate matplotlib handles to create a legend of the features we put in our map.\n",
    "def generate_handles(labels, colors, edge='k', alpha=1):\n",
    "    lc = len(colors)  # get the length of the color list\n",
    "    handles = []\n",
    "    for i in range(len(labels)):\n",
    "        handles.append(mpatches.Rectangle((0, 0), 1, 1, facecolor=colors[i % lc], edgecolor=edge, alpha=alpha))\n",
    "    return handles\n",
    "\n",
    "# create a scale bar of length 20 km in the upper right corner of the map\n",
    "# adapted this question: https://stackoverflow.com/q/32333870\n",
    "# answered by SO user Siyh: https://stackoverflow.com/a/35705477\n",
    "def scale_bar(ax, location=(0.92, 0.95)):\n",
    "    x0, x1, y0, y1 = ax.get_extent()\n",
    "    sbx = x0 + (x1 - x0) * location[0]\n",
    "    sby = y0 + (y1 - y0) * location[1]\n",
    "\n",
    "    ax.plot([sbx, sbx - 20000], [sby, sby], color='k', linewidth=9, transform=ax.projection)\n",
    "    ax.plot([sbx, sbx - 10000], [sby, sby], color='k', linewidth=6, transform=ax.projection)\n",
    "    ax.plot([sbx-10000, sbx - 20000], [sby, sby], color='w', linewidth=6, transform=ax.projection)\n",
    "\n",
    "    ax.text(sbx, sby-4500, '20 km', transform=ax.projection, fontsize=8)\n",
    "    ax.text(sbx-12500, sby-4500, '10 km', transform=ax.projection, fontsize=8)\n",
    "    ax.text(sbx-24500, sby-4500, '0 km', transform=ax.projection, fontsize=8)\n",
    "\n",
    "# load the outline of Northern Ireland for a backdrop\n",
    "outline = gpd.read_file(os.path.abspath('data_files/NI_outline.shp'))"
   ]
  },
  {
   "cell_type": "markdown",
   "metadata": {},
   "source": [
    "## 2. Loading the data\n",
    "Great. Now that we've imported most of the modules we'll be needing, and defined a few helper functions, we can actually load our data. To load the shapefile data, we will use [GeoPandas](http://geopandas.org/), an open-source package designed to make working with geospatial data in python easier. \n",
    "\n",
    "GeoPandas is built off of Pandas, a powerful data analysis tool. We will be working with both of these packages more in the weeks to come.\n",
    "\n",
    "To open a shapefile, we use the `gpd.read_file()` ([documentation](https://geopandas.org/en/stable/docs/reference/api/geopandas.read_file.html)) method:"
   ]
  },
  {
   "cell_type": "code",
   "execution_count": null,
   "metadata": {},
   "outputs": [],
   "source": [
    "towns = gpd.read_file(os.path.abspath('data_files/Towns.shp'))\n",
    "water = gpd.read_file(os.path.abspath('data_files/Water.shp'))\n",
    "rivers = gpd.read_file(os.path.abspath('data_files/Rivers.shp'))\n",
    "counties = gpd.read_file(os.path.abspath('data_files/Counties.shp'))"
   ]
  },
  {
   "cell_type": "markdown",
   "metadata": {},
   "source": [
    "GeoPandas loads the data associated with a shapefile into a GeoDataFrame, a tabular data structure that always has a column describing a feature's geometry. Each line in the table corresponds to a feature in the shapefile, just like the attribute table you are familiar with from ArcGIS/QGIS.\n",
    "\n",
    "To see a subset of a GeoDataFrame, we can use the ``head()`` ([documentation](https://pandas.pydata.org/docs/reference/api/pandas.DataFrame.head.html)) method:"
   ]
  },
  {
   "cell_type": "code",
   "execution_count": null,
   "metadata": {},
   "outputs": [],
   "source": [
    "water.head(10)"
   ]
  },
  {
   "cell_type": "markdown",
   "metadata": {},
   "source": [
    "To select rows in the dataframe using an index, we can use ``.loc`` ([documentation](https://pandas.pydata.org/docs/reference/api/pandas.DataFrame.loc.html)):"
   ]
  },
  {
   "cell_type": "code",
   "execution_count": null,
   "metadata": {},
   "outputs": [],
   "source": [
    "water.loc[0] # should show the row for Lough Neagh"
   ]
  },
  {
   "cell_type": "markdown",
   "metadata": {},
   "source": [
    "Note that ``.loc`` is not a method, since we use square brackets:`[` and `]`, instead of round brackets/parentheses. Instead, it's a way to index or slice a GeoDataFrame.\n",
    "\n",
    "This means that we can also use ``.loc`` with conditional statements. For example, if we wanted to select all bodies of water that are smaller than 1 square kilometer, we could use something like this:"
   ]
  },
  {
   "cell_type": "code",
   "execution_count": null,
   "metadata": {},
   "outputs": [],
   "source": [
    "water.loc[water['Area_km2'] < 1]"
   ]
  },
  {
   "cell_type": "markdown",
   "metadata": {},
   "source": [
    "Note that with only a single value, `.loc` returns all columns of the GeoDataFrame where the rows match the given index/conditional statement. \n",
    "\n",
    "To select a specific column or group of columns, we can use a comma to separate the different indexers. For example, if we want to select only the name of the lakes that are smaller than 1 square kilometer, we can use the following:"
   ]
  },
  {
   "cell_type": "code",
   "execution_count": null,
   "metadata": {},
   "outputs": [],
   "source": [
    "water.loc[water['Area_km2'] < 1, 'namespace']"
   ]
  },
  {
   "cell_type": "markdown",
   "metadata": {},
   "source": [
    "Each \"column\" of the GeoDataFrame is an object of type Series ([documentation](https://pandas.pydata.org/docs/reference/api/pandas.Series.html)).\n",
    "\n",
    "If a Series is filled with numeric data, we can use different methods such as ``.sum()`` ([documentation](https://pandas.pydata.org/docs/reference/api/pandas.Series.sum.html)) or ``.mean()`` ([documentation](https://pandas.pydata.org/docs/reference/api/pandas.Series.mean.html)), to get the sum and mean of the values in the Series, respectively.\n",
    "\n",
    "So, the total area (in square kilometers) of all of the lakes in the dataset would be given by the following statement:"
   ]
  },
  {
   "cell_type": "code",
   "execution_count": null,
   "metadata": {},
   "outputs": [],
   "source": [
    "water['Area_km2'].sum()"
   ]
  },
  {
   "cell_type": "markdown",
   "metadata": {},
   "source": [
    "We'll work with GeoDataFrames more in next week's practical, but for now see if you can put these different pieces together and figure out the total area of lakes in the `Water` dataset that are smaller than 10 square kilometers. I'll provide two hints to get you started:\n",
    "\n",
    "1. GeoDataFrames can be subset using a conditional and a column in the GeoDataFrame, like we saw above.\n",
    "2. With only a single value, `.loc` returns all columns of the GeoDataFrame where the rows match the given index/conditional statement. To select a specific column or group of columns, we can use a comma to separate the different indexers.\n",
    "3. The numerical columns of a GeoDataFrame (also called Series or GeoSeries) have built-in operators such as __max__, __min__, __mean__, and so on.\n",
    "\n",
    "That should be enough to get you started - if you get stuck, be sure to ask for help."
   ]
  },
  {
   "cell_type": "code",
   "execution_count": null,
   "metadata": {
    "scrolled": false
   },
   "outputs": [],
   "source": [
    "# write a statement (or series of statments) to calculate the total area of lakes < 10 km2 in the water dataset."
   ]
  },
  {
   "cell_type": "markdown",
   "metadata": {},
   "source": [
    "## 3. Creating maps with matplotlib and cartopy\n",
    "\n",
    "Now that we're more familiar with the dataset, we can start building our map. For this portion of the practical, we'll be mostly using [matplotlib](https://matplotlib.org/), a python package designed for making plots and graphs, and [cartopy](https://scitools.org.uk/cartopy/docs/latest/), a package designed for making maps and representing geopatial data. "
   ]
  },
  {
   "cell_type": "code",
   "execution_count": null,
   "metadata": {
    "scrolled": false
   },
   "outputs": [],
   "source": [
    "myFig = plt.figure(figsize=(10, 10))  # create a figure of size 10x10 (representing the page size in inches)\n",
    "\n",
    "myCRS = ccrs.UTM(XX)  # create a Universal Transverse Mercator reference system to transform our data.\n",
    "# be sure to fill in XX above with the correct number for the UTM Zone that Northern Ireland is part of.\n",
    "\n",
    "ax = plt.axes(projection=myCRS)  # finally, create an axes object in the figure, using a UTM projection,\n",
    "# where we can actually plot our data."
   ]
  },
  {
   "cell_type": "markdown",
   "metadata": {},
   "source": [
    "### Adding data to the map\n",
    "\n",
    "Now that we've created a figure and axes, we can start adding data to the map. To start, we'll add the municipal borders. \n",
    "\n",
    "In order to add these to the map, we first have to create features that we can add to the axes using the `ShapelyFeature` class from `cartopy.feature`. The initialization method for this class takes a minimum of two arguments, an __iterable__ containing the geometries that we're using, and a CRS representation. \n",
    "\n",
    "To add the County borders, then, we would use `counties['geometry']`, the GeoSeries of the feature geometries in our Municipalities shapefile, and `myCRS`, the CRS object representing the UTM Zone for Northern Ireland:"
   ]
  },
  {
   "cell_type": "code",
   "execution_count": null,
   "metadata": {},
   "outputs": [],
   "source": [
    "# first, we just add the outline of Northern Ireland using cartopy's ShapelyFeature\n",
    "outline_feature = ShapelyFeature(outline['geometry'], myCRS, edgecolor='k', facecolor='w')\n",
    "xmin, ymin, xmax, ymax = outline.total_bounds\n",
    "ax.add_feature(outline_feature) # add the features we've created to the map."
   ]
  },
  {
   "cell_type": "markdown",
   "metadata": {},
   "source": [
    "The other arguments that we pass to `ShapelyFeature` tell `matplotlib` how to draw the features - in this case, with an edge color of black and a face color of gray. Once we've created the features, we add them to the axes using the `add_feature` method.\n",
    "\n",
    "We'll also want to zoom the map into our area of interest using the boundary of the shapefile features (using `ax.set_extent`). In the example below, we're setting the extent with a 5 km buffer around each edge:"
   ]
  },
  {
   "cell_type": "code",
   "execution_count": null,
   "metadata": {},
   "outputs": [],
   "source": [
    "# using the boundary of the shapefile features, zoom the map to our area of interest\n",
    "ax.set_extent([xmin-5000, xmax+5000, ymin-5000, ymax+5000], crs=myCRS) # because total_bounds \n",
    "# gives output as xmin, ymin, xmax, ymax,\n",
    "# but set_extent takes xmin, xmax, ymin, ymax, we re-order the coordinates here.\n",
    "\n",
    "myFig ## re-draw the figure"
   ]
  },
  {
   "cell_type": "markdown",
   "metadata": {},
   "source": [
    "This is fine, but a bit boring. For one thing, we might want to set different colors for the different municipalities, rather than having them all be the same color. To do this, we'll first have to count the number of __unique__ municipalities in our dataset, then select colors to represent each of them. \n",
    "\n",
    "\n",
    "<span style=\"color:blue;font-weight:bold;font-size:14pt\">Question: Why might we do this, rather than just use the number of features in the dataset?</span>\n",
    "\n",
    "\n",
    "Run the cell below to count the number of unique municipalities in the dataset, using the `unique` method on the __CountyName__ GeoSeries. \n",
    "\n",
    "Note that in addition to the standard indexing (i.e., `counties['CountyName']`), we are accessing __CountyName__ directly as an attribute of `counties` (i.e., `counties.CountyName`). \n",
    "\n",
    "Provided that the column name follows particular rules ([more on this here](http://pandas.pydata.org/pandas-docs/stable/indexing.html#attribute-access)), there is no difference between these two methods - they give the same results."
   ]
  },
  {
   "cell_type": "code",
   "execution_count": null,
   "metadata": {},
   "outputs": [],
   "source": [
    "# get the number of unique municipalities we have in the dataset\n",
    "num_counties = len(counties.CountyName.unique())\n",
    "print('Number of unique features: {}'.format(num_counties)) # note how we're using {} and format here!"
   ]
  },
  {
   "cell_type": "markdown",
   "metadata": {},
   "source": [
    "Now that you've found the number of colors you need to choose, you can use the image below to make a list of the colors. There are other ways to select colors using matplotlib, including using RGB values, but that's for another day. If you're interested in learning more, you can check out the documentation [here](https://matplotlib.org/stable/api/colors_api.html).\n",
    "\n",
    "![title](imgs/named_colors.png)\n",
    "[source](https://matplotlib.org/stable/gallery/color/named_colors.html)"
   ]
  },
  {
   "cell_type": "code",
   "execution_count": null,
   "metadata": {
    "scrolled": false
   },
   "outputs": [],
   "source": [
    "# pick colors for the individual county boundaries - make sure to add enough for each of the counties\n",
    "# to add a color, enclose the name above (e.g., violet) with single (or double) quotes: 'violet'\n",
    "# remember that each colors should be separated by a comma\n",
    "county_colors = []\n",
    "\n",
    "# get a list of unique names for the county boundaries\n",
    "county_names = list(counties.CountyName.unique())\n",
    "county_names.sort() # sort the counties alphabetically by name\n",
    "\n",
    "# next, add the municipal outlines to the map using the colors that we've picked.\n",
    "# here, we're iterating over the unique values in the 'CountyName' field.\n",
    "# we're also setting the edge color to be black, with a line width of 0.5 pt. \n",
    "# Feel free to experiment with different colors and line widths.\n",
    "for ii, name in enumerate(county_names):\n",
    "    feat = ShapelyFeature(counties.loc[counties['CountyName'] == name, 'geometry'], # first argument is the geometry\n",
    "                          myCRS, # second argument is the CRS\n",
    "                          edgecolor='k', # outline the feature in black\n",
    "                          facecolor=county_colors[ii], # set the face color to the corresponding color from the list\n",
    "                          linewidth=1, # set the outline width to be 1 pt\n",
    "                          alpha=0.25) # set the alpha (transparency) to be 0.25 (out of 1)\n",
    "    ax.add_feature(feat) # once we have created the feature, we have to add it to the map using ax.add_feature()\n",
    "\n",
    "myFig # to show the updated figure"
   ]
  },
  {
   "cell_type": "markdown",
   "metadata": {},
   "source": [
    "Now that we've done this for the municipal boundaries, we can also do this for the water datasets. Because we want the water bodies to be the same symbology, we add them with a single use of __ShapelyFeature__:"
   ]
  },
  {
   "cell_type": "code",
   "execution_count": null,
   "metadata": {},
   "outputs": [],
   "source": [
    "# here, we're setting the edge color to be the same as the face color. Feel free to change this around,\n",
    "# and experiment with different line widths.\n",
    "water_feat = ShapelyFeature(water['geometry'], # first argument is the geometry\n",
    "                            myCRS, # second argument is the CRS\n",
    "                            edgecolor='mediumblue', # set the edgecolor to be mediumblue\n",
    "                            facecolor='mediumblue', # set the facecolor to be mediumblue\n",
    "                            linewidth=1) # set the outline width to be 1 pt\n",
    "ax.add_feature(water_feat) # add the collection of features to the map\n",
    "\n",
    "myFig # to show the updated figure"
   ]
  },
  {
   "cell_type": "markdown",
   "metadata": {},
   "source": [
    "We do the same thing with the rivers. However, because these are __Line__ objects, not **Polygon**s, we don't set the `facecolor` property:"
   ]
  },
  {
   "cell_type": "code",
   "execution_count": null,
   "metadata": {},
   "outputs": [],
   "source": [
    "river_feat = ShapelyFeature(rivers['geometry'], # first argument is the geometry\n",
    "                            myCRS, # second argument is the CRS\n",
    "                            edgecolor='royalblue', # set the edgecolor to be royalblue\n",
    "                            linewidth=0.2) # set the linewidth to be 0.2 pt\n",
    "ax.add_feature(river_feat) # add the collection of features to the map\n",
    "\n",
    "myFig # to show the updated figure"
   ]
  },
  {
   "cell_type": "markdown",
   "metadata": {},
   "source": [
    "For __Point__ data, such as the town locations, we can use `ax.plot()` directly. \n",
    "\n",
    "The code below will add a gray (`color='0.5'`) square (`'s'`) marker of size 6 (`ms=6`) at each x, y location:"
   ]
  },
  {
   "cell_type": "code",
   "execution_count": null,
   "metadata": {},
   "outputs": [],
   "source": [
    "# ShapelyFeature creates a polygon, so for point data we can just use ax.plot()\n",
    "town_handle = ax.plot(towns.geometry.x, towns.geometry.y, 's', color='0.5', ms=6, transform=myCRS)\n",
    "\n",
    "myFig # to show the updated figure"
   ]
  },
  {
   "cell_type": "markdown",
   "metadata": {},
   "source": [
    "### Adding labels and legends\n",
    "\n",
    "Now that we have different colors for each of the county boundaries and we've displayed lakes, rivers, and towns, it might be good to have a legend to keep everything straight.\n",
    "\n",
    "To do this, we get handles for each of the county boundaries, using the colors we defined earlier. Here, we're using our helper function `generate_handles`, which returns a list of `matplotlib` handles (i.e., the symbol that `matplotlib` uses to display the objects in the figure), given a list of labels and colors. \n",
    "\n",
    "We then do the same for the water bodies and rivers:"
   ]
  },
  {
   "cell_type": "code",
   "execution_count": null,
   "metadata": {},
   "outputs": [],
   "source": [
    "# generate a list of handles for the county datasets\n",
    "# first, we add the list of names, then the list of colors, and finally we set the transparency\n",
    "# (since we set it in the map)\n",
    "county_handles = generate_handles(counties.CountyName.unique(), county_colors, alpha=0.25)\n",
    "\n",
    "# note: if you change the color you use to display lakes, you'll want to change it here, too\n",
    "water_handle = generate_handles(['Lakes'], ['mediumblue'])\n",
    "\n",
    "# note: if you change the color you use to display rivers, you'll want to change it here, too\n",
    "river_handle = [mlines.Line2D([], [], color='royalblue')]"
   ]
  },
  {
   "cell_type": "markdown",
   "metadata": {},
   "source": [
    "Note that the names in our county dataset are all uppercase - that's not necessarily how we want to display them on the map. To change this, we can use a string method called __title()__, which will capitalize the first letter of each word in a string. We also have to do this for each of the items in our list of names. We _could_ write this as a __for__ loop, like this:\n",
    "\n",
    "```python\n",
    "nice_names = []  # initalize an empty list\n",
    "for name in county_names:\n",
    "    nice_names.append(name.title())\n",
    "\n",
    "```\n",
    "\n",
    "But, python offers another, cleaner option, called a [list comprehension](https://docs.python.org/3/tutorial/datastructures.html#list-comprehensions). A list comprehension allows us to generate a new list from an existing iterable. To write the same __for__ loop above as a list comprehension takes one line:"
   ]
  },
  {
   "cell_type": "code",
   "execution_count": null,
   "metadata": {},
   "outputs": [],
   "source": [
    "# update county_names to take it out of uppercase text\n",
    "nice_names = [name.title() for name in county_names]"
   ]
  },
  {
   "cell_type": "markdown",
   "metadata": {},
   "source": [
    "That's it. This creates a new list by iterating over each of the items in county_names, applying a method, __str.title()__, to each item. We'll work more with list comprehensions throughout the module, as they provide a way to simplify some pretty complicated loops.\n",
    "\n",
    "We can pass each of our lists of handles and labels to `plt.legend`, to generate a legend for the municipal boundaries data. Feel free to experiment with the placement (by changing __loc__ and/or __bbox_to_anchor__), or the font size, the title font size, and so on."
   ]
  },
  {
   "cell_type": "code",
   "execution_count": null,
   "metadata": {},
   "outputs": [],
   "source": [
    "# ax.legend() takes a list of handles and a list of labels corresponding to the objects \n",
    "# you want to add to the legend\n",
    "handles = county_handles + water_handle + river_handle + town_handle # use '+' to concatenate (combine) lists\n",
    "labels = nice_names + ['Lakes', 'Rivers', 'Towns']\n",
    "\n",
    "leg = ax.legend(handles, labels, title='Legend', title_fontsize=12, \n",
    "                 fontsize=10, loc='upper left', frameon=True, framealpha=1)\n",
    "\n",
    "myFig # to show the updated figure"
   ]
  },
  {
   "cell_type": "markdown",
   "metadata": {},
   "source": [
    "Now that we have a legend, let's go ahead and add grid lines to our plot. I've chosen some default gridlines, but you can feel free to change this. \n",
    "\n",
    "What happens if you delete the first and/or last value from xlocs and ylocs? Try it and see!\n",
    "\n",
    "Can you change the labels to show only on the bottom and left side of the map? To see, try looking at this [example](https://scitools.org.uk/cartopy/docs/latest/gallery/gridlines_and_labels/gridliner.html), or at the [documentation](https://scitools.org.uk/cartopy/docs/latest/reference/generated/cartopy.mpl.gridliner.Gridliner.html#cartopy.mpl.gridliner.Gridliner)."
   ]
  },
  {
   "cell_type": "code",
   "execution_count": null,
   "metadata": {
    "scrolled": false
   },
   "outputs": [],
   "source": [
    "gridlines = ax.gridlines(draw_labels=True, # draw  labels for the grid lines\n",
    "                         xlocs=[-8, -7.5, -7, -6.5, -6, -5.5], # add longitude lines at 0.5 deg intervals\n",
    "                         ylocs=[54, 54.5, 55, 55.5]) # add latitude lines at 0.5 deg intervals\n",
    "gridlines.left_labels = False # turn off the left-side labels\n",
    "gridlines.bottom_labels = False # turn off the bottom labels\n",
    "\n",
    "myFig # to show the updated figure"
   ]
  },
  {
   "cell_type": "markdown",
   "metadata": {},
   "source": [
    "Excellent. Now, let's add text labels for each of our individual towns. For each of the points representing our towns/cities, we can place a text label. Look over the cell below, and make sure you understand what each line is doing. If you're not sure you understand, you can post your questions on Blackboard."
   ]
  },
  {
   "cell_type": "code",
   "execution_count": null,
   "metadata": {},
   "outputs": [],
   "source": [
    "for ind, row in towns.iterrows(): # towns.iterrows() returns the index and row\n",
    "    x, y = row.geometry.x, row.geometry.y # get the x,y location for each town\n",
    "    ax.text(x, y, row['TOWN_NAME'].title(), fontsize=7, transform=myCRS) # use plt.text to place a label at x,y\n",
    "\n",
    "myFig # to show the updated figure    "
   ]
  },
  {
   "cell_type": "markdown",
   "metadata": {},
   "source": [
    "Last but not least, let's add a scale bar to the plot. The scale_bar function we've defined above will produce a scale bar with divisions at 10 and 20 km, with a location in the upper right corner as default. Try to experiment with this a bit - can you design a scale bar with divisions at 1, 5, and 10 km? It's not as straightforward as it is in ArcGIS, but it might provide an interesting challenge if you're interested in developing your programming skills a bit."
   ]
  },
  {
   "cell_type": "code",
   "execution_count": null,
   "metadata": {},
   "outputs": [],
   "source": [
    "scale_bar(ax)\n",
    "\n",
    "myFig # to show the updated figure"
   ]
  },
  {
   "cell_type": "markdown",
   "metadata": {},
   "source": [
    "Finally, we'll save our figure. The command written below will save the figure to the current folder, in a file called `map.png`, with no border around the outside of the map, and with a resolution of 300 dots per inch. As always, feel free to change these parameters."
   ]
  },
  {
   "cell_type": "code",
   "execution_count": null,
   "metadata": {},
   "outputs": [],
   "source": [
    "myFig.savefig('map.png', bbox_inches='tight', dpi=300)"
   ]
  },
  {
   "cell_type": "markdown",
   "metadata": {},
   "source": [
    "## Next steps\n",
    "\n",
    "In this directory, you should also have a python script, __practical2_script.py__, which will create the same map that we've made here (though perhaps with different colors).\n",
    "\n",
    "Note that the __towns__ dataset has an attribute, __STATUS__, that describes whether the feature represents a __Town__ (e.g., Coleraine), or a __City__ (e.g., Belfast). As a further exercise, see if you can modify the script to plot all of the __Towns__ with one marker (e.g., the gray square used above), and plot all of the __Cities__ plot with a different marker, then add these to the legend. For more information on the available markers and colors for matplotlib, see the [documentation](https://matplotlib.org/stable/api/_as_gen/matplotlib.axes.Axes.plot.html)."
   ]
  }
 ],
 "metadata": {
  "kernelspec": {
   "display_name": "Python 3 (ipykernel)",
   "language": "python",
   "name": "python3"
  },
  "language_info": {
   "codemirror_mode": {
    "name": "ipython",
    "version": 3
   },
   "file_extension": ".py",
   "mimetype": "text/x-python",
   "name": "python",
   "nbconvert_exporter": "python",
   "pygments_lexer": "ipython3",
   "version": "3.9.16"
  }
 },
 "nbformat": 4,
 "nbformat_minor": 2
}
